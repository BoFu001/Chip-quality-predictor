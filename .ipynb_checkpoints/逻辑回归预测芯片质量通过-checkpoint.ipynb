{
 "cells": [
  {
   "cell_type": "code",
   "execution_count": 1,
   "id": "9c349871-9e22-4830-8dfb-2b4b4c3f9a26",
   "metadata": {},
   "outputs": [
    {
     "data": {
      "text/html": [
       "<div>\n",
       "<style scoped>\n",
       "    .dataframe tbody tr th:only-of-type {\n",
       "        vertical-align: middle;\n",
       "    }\n",
       "\n",
       "    .dataframe tbody tr th {\n",
       "        vertical-align: top;\n",
       "    }\n",
       "\n",
       "    .dataframe thead th {\n",
       "        text-align: right;\n",
       "    }\n",
       "</style>\n",
       "<table border=\"1\" class=\"dataframe\">\n",
       "  <thead>\n",
       "    <tr style=\"text-align: right;\">\n",
       "      <th></th>\n",
       "      <th>test1</th>\n",
       "      <th>test2</th>\n",
       "      <th>pass</th>\n",
       "    </tr>\n",
       "  </thead>\n",
       "  <tbody>\n",
       "    <tr>\n",
       "      <th>0</th>\n",
       "      <td>0.051267</td>\n",
       "      <td>0.69956</td>\n",
       "      <td>1</td>\n",
       "    </tr>\n",
       "    <tr>\n",
       "      <th>1</th>\n",
       "      <td>-0.092742</td>\n",
       "      <td>0.68494</td>\n",
       "      <td>1</td>\n",
       "    </tr>\n",
       "    <tr>\n",
       "      <th>2</th>\n",
       "      <td>-0.213710</td>\n",
       "      <td>0.69225</td>\n",
       "      <td>1</td>\n",
       "    </tr>\n",
       "    <tr>\n",
       "      <th>3</th>\n",
       "      <td>-0.375000</td>\n",
       "      <td>0.50219</td>\n",
       "      <td>1</td>\n",
       "    </tr>\n",
       "    <tr>\n",
       "      <th>4</th>\n",
       "      <td>0.183760</td>\n",
       "      <td>0.93348</td>\n",
       "      <td>0</td>\n",
       "    </tr>\n",
       "  </tbody>\n",
       "</table>\n",
       "</div>"
      ],
      "text/plain": [
       "      test1    test2  pass\n",
       "0  0.051267  0.69956     1\n",
       "1 -0.092742  0.68494     1\n",
       "2 -0.213710  0.69225     1\n",
       "3 -0.375000  0.50219     1\n",
       "4  0.183760  0.93348     0"
      ]
     },
     "execution_count": 1,
     "metadata": {},
     "output_type": "execute_result"
    }
   ],
   "source": [
    "import pandas as pd\n",
    "import numpy as np\n",
    "from matplotlib import pyplot as plt\n",
    "from sklearn.linear_model import LogisticRegression\n",
    "from sklearn.metrics import accuracy_score\n",
    "from sklearn.preprocessing import StandardScaler\n",
    "df = pd.read_csv(\"chip_test.csv\")\n",
    "df.head()"
   ]
  },
  {
   "cell_type": "code",
   "execution_count": 2,
   "id": "8a4aa8f8-4e48-45ec-a07c-71e2993bcfee",
   "metadata": {},
   "outputs": [
    {
     "name": "stdout",
     "output_type": "stream",
     "text": [
      "0     True\n",
      "1     True\n",
      "2     True\n",
      "3     True\n",
      "4    False\n",
      "Name: pass, dtype: bool\n",
      "(118,)\n"
     ]
    }
   ],
   "source": [
    "# add label mask\n",
    "mask = df[\"pass\"] == 1\n",
    "print(mask.head())\n",
    "print(mask.shape)"
   ]
  },
  {
   "cell_type": "code",
   "execution_count": 3,
   "id": "9892799f-605b-41d0-aca1-da055469e8ba",
   "metadata": {},
   "outputs": [
    {
     "data": {
      "image/png": "[encoded data removed]",
      "text/plain": [
       "<Figure size 640x480 with 1 Axes>"
      ]
     },
     "metadata": {},
     "output_type": "display_data"
    }
   ],
   "source": [
    "passed = plt.scatter(df.test1[mask], df.test2[mask])\n",
    "failed = plt.scatter(df.test1[~mask], df.test2[~mask])\n",
    "plt.legend((passed,failed),(\"passed\",\"failed\"))\n",
    "plt.title(\"test1 - test2\")\n",
    "plt.xlabel(\"test1\")\n",
    "plt.ylabel(\"test2\")\n",
    "plt.show()"
   ]
  },
  {
   "cell_type": "code",
   "execution_count": 4,
   "id": "118d66e1-3f33-4204-b7fc-27512d70ed12",
   "metadata": {},
   "outputs": [
    {
     "data": {
      "text/html": [
       "<div>\n",
       "<style scoped>\n",
       "    .dataframe tbody tr th:only-of-type {\n",
       "        vertical-align: middle;\n",
       "    }\n",
       "\n",
       "    .dataframe tbody tr th {\n",
       "        vertical-align: top;\n",
       "    }\n",
       "\n",
       "    .dataframe thead th {\n",
       "        text-align: right;\n",
       "    }\n",
       "</style>\n",
       "<table border=\"1\" class=\"dataframe\">\n",
       "  <thead>\n",
       "    <tr style=\"text-align: right;\">\n",
       "      <th></th>\n",
       "      <th>test1</th>\n",
       "      <th>test2</th>\n",
       "    </tr>\n",
       "  </thead>\n",
       "  <tbody>\n",
       "    <tr>\n",
       "      <th>0</th>\n",
       "      <td>0.051267</td>\n",
       "      <td>0.69956</td>\n",
       "    </tr>\n",
       "    <tr>\n",
       "      <th>1</th>\n",
       "      <td>-0.092742</td>\n",
       "      <td>0.68494</td>\n",
       "    </tr>\n",
       "    <tr>\n",
       "      <th>2</th>\n",
       "      <td>-0.213710</td>\n",
       "      <td>0.69225</td>\n",
       "    </tr>\n",
       "    <tr>\n",
       "      <th>3</th>\n",
       "      <td>-0.375000</td>\n",
       "      <td>0.50219</td>\n",
       "    </tr>\n",
       "    <tr>\n",
       "      <th>4</th>\n",
       "      <td>0.183760</td>\n",
       "      <td>0.93348</td>\n",
       "    </tr>\n",
       "  </tbody>\n",
       "</table>\n",
       "</div>"
      ],
      "text/plain": [
       "      test1    test2\n",
       "0  0.051267  0.69956\n",
       "1 -0.092742  0.68494\n",
       "2 -0.213710  0.69225\n",
       "3 -0.375000  0.50219\n",
       "4  0.183760  0.93348"
      ]
     },
     "execution_count": 4,
     "metadata": {},
     "output_type": "execute_result"
    }
   ],
   "source": [
    "# define X, y\n",
    "X = df.drop([\"pass\"], axis=1)\n",
    "y = df[\"pass\"]\n",
    "X1 = df.test1\n",
    "X2 = df.test2\n",
    "X.head()"
   ]
  },
  {
   "cell_type": "code",
   "execution_count": 5,
   "id": "dd1eda73-89c1-447c-8c7d-953d2e65a735",
   "metadata": {},
   "outputs": [
    {
     "data": {
      "text/html": [
       "<div>\n",
       "<style scoped>\n",
       "    .dataframe tbody tr th:only-of-type {\n",
       "        vertical-align: middle;\n",
       "    }\n",
       "\n",
       "    .dataframe tbody tr th {\n",
       "        vertical-align: top;\n",
       "    }\n",
       "\n",
       "    .dataframe thead th {\n",
       "        text-align: right;\n",
       "    }\n",
       "</style>\n",
       "<table border=\"1\" class=\"dataframe\">\n",
       "  <thead>\n",
       "    <tr style=\"text-align: right;\">\n",
       "      <th></th>\n",
       "      <th>test1</th>\n",
       "      <th>test2</th>\n",
       "      <th>test1^2</th>\n",
       "      <th>test2^2</th>\n",
       "      <th>test1*test2</th>\n",
       "    </tr>\n",
       "  </thead>\n",
       "  <tbody>\n",
       "    <tr>\n",
       "      <th>0</th>\n",
       "      <td>0.051267</td>\n",
       "      <td>0.69956</td>\n",
       "      <td>0.002628</td>\n",
       "      <td>0.489384</td>\n",
       "      <td>0.035864</td>\n",
       "    </tr>\n",
       "    <tr>\n",
       "      <th>1</th>\n",
       "      <td>-0.092742</td>\n",
       "      <td>0.68494</td>\n",
       "      <td>0.008601</td>\n",
       "      <td>0.469143</td>\n",
       "      <td>-0.063523</td>\n",
       "    </tr>\n",
       "    <tr>\n",
       "      <th>2</th>\n",
       "      <td>-0.213710</td>\n",
       "      <td>0.69225</td>\n",
       "      <td>0.045672</td>\n",
       "      <td>0.479210</td>\n",
       "      <td>-0.147941</td>\n",
       "    </tr>\n",
       "    <tr>\n",
       "      <th>3</th>\n",
       "      <td>-0.375000</td>\n",
       "      <td>0.50219</td>\n",
       "      <td>0.140625</td>\n",
       "      <td>0.252195</td>\n",
       "      <td>-0.188321</td>\n",
       "    </tr>\n",
       "    <tr>\n",
       "      <th>4</th>\n",
       "      <td>0.183760</td>\n",
       "      <td>0.93348</td>\n",
       "      <td>0.033768</td>\n",
       "      <td>0.871385</td>\n",
       "      <td>0.171536</td>\n",
       "    </tr>\n",
       "  </tbody>\n",
       "</table>\n",
       "</div>"
      ],
      "text/plain": [
       "      test1    test2   test1^2   test2^2  test1*test2\n",
       "0  0.051267  0.69956  0.002628  0.489384     0.035864\n",
       "1 -0.092742  0.68494  0.008601  0.469143    -0.063523\n",
       "2 -0.213710  0.69225  0.045672  0.479210    -0.147941\n",
       "3 -0.375000  0.50219  0.140625  0.252195    -0.188321\n",
       "4  0.183760  0.93348  0.033768  0.871385     0.171536"
      ]
     },
     "execution_count": 5,
     "metadata": {},
     "output_type": "execute_result"
    }
   ],
   "source": [
    "# create polinonial terms\n",
    "X_new = X\n",
    "X_new[\"test1^2\"] = X_new.test1 ** 2\n",
    "X_new[\"test2^2\"] = X_new.test2 ** 2\n",
    "X_new[\"test1*test2\"] = X_new.test1 * X_new.test2\n",
    "X_new.head()"
   ]
  },
  {
   "cell_type": "code",
   "execution_count": 6,
   "id": "5d0db82b-1ad1-43c1-ad3e-edf22831843d",
   "metadata": {},
   "outputs": [
    {
     "name": "stdout",
     "output_type": "stream",
     "text": [
      "0.8135593220338984\n"
     ]
    }
   ],
   "source": [
    "# establish new model\n",
    "LR2 = LogisticRegression()\n",
    "LR2.fit(X_new, y)\n",
    "y2_predict = LR2.predict(X_new)\n",
    "accuracy2 = accuracy_score(y, y2_predict)\n",
    "print(accuracy2)"
   ]
  },
  {
   "cell_type": "code",
   "execution_count": 7,
   "id": "2b13fd44-2bda-462b-983c-65cbf311b647",
   "metadata": {},
   "outputs": [],
   "source": [
    "# calculate decision boundary\n",
    "theta0 = LR2.intercept_\n",
    "theta1,theta2,theta3,theta4,theta5 = LR2.coef_[0][0],LR2.coef_[0][1],LR2.coef_[0][2],LR2.coef_[0][3],LR2.coef_[0][4]"
   ]
  },
  {
   "cell_type": "code",
   "execution_count": 8,
   "id": "5a7c0f7b-65a6-4360-83e3-8d7242ebb345",
   "metadata": {},
   "outputs": [],
   "source": [
    "def f(x):\n",
    "    a = theta4\n",
    "    b = theta5*x+theta2\n",
    "    c = theta0+theta1*x+theta3*x*x\n",
    "    boundary1 = (-b+np.sqrt(b*b-4*a*c))/(2*a)\n",
    "    boundary2 = (-b-np.sqrt(b*b-4*a*c))/(2*a)\n",
    "    return boundary1,boundary2"
   ]
  },
  {
   "cell_type": "code",
   "execution_count": 9,
   "id": "2d704212-f3bf-45fc-9c3d-0182cf0ab168",
   "metadata": {},
   "outputs": [
    {
     "name": "stderr",
     "output_type": "stream",
     "text": [
      "/var/folders/q3/zj62tx1d54q9x6l3mt4ldr_w0000gn/T/ipykernel_65202/3603191961.py:5: RuntimeWarning: invalid value encountered in sqrt\n",
      "  boundary1 = (-b+np.sqrt(b*b-4*a*c))/(2*a)\n",
      "/var/folders/q3/zj62tx1d54q9x6l3mt4ldr_w0000gn/T/ipykernel_65202/3603191961.py:6: RuntimeWarning: invalid value encountered in sqrt\n",
      "  boundary2 = (-b-np.sqrt(b*b-4*a*c))/(2*a)\n"
     ]
    }
   ],
   "source": [
    "X1_range = [-0.8 + x/10000 for x in range(0,16000)]\n",
    "X1_range = np.array(X1_range)\n",
    "boundary1 = []\n",
    "boundary2 = []\n",
    "for x in X1_range:\n",
    "    boundary1.append(f(x)[0])\n",
    "    boundary2.append(f(x)[1])"
   ]
  },
  {
   "cell_type": "code",
   "execution_count": 10,
   "id": "c4ec1a07-0783-4659-813d-0b5fab6a1260",
   "metadata": {},
   "outputs": [
    {
     "data": {
      "image/png": "[encoded data removed]",
      "text/plain": [
       "<Figure size 640x480 with 1 Axes>"
      ]
     },
     "metadata": {},
     "output_type": "display_data"
    }
   ],
   "source": [
    "passed = plt.scatter(df.test1[mask], df.test2[mask])\n",
    "failed = plt.scatter(df.test1[~mask], df.test2[~mask])\n",
    "plt.plot(X1_range,boundary1,'r')\n",
    "plt.plot(X1_range,boundary2,'r')\n",
    "plt.legend((passed,failed),(\"passed\",\"failed\"))\n",
    "plt.title(\"test1 - test2\")\n",
    "plt.xlabel(\"test1\")\n",
    "plt.ylabel(\"test2\")\n",
    "plt.show()"
   ]
  },
  {
   "cell_type": "code",
   "execution_count": null,
   "id": "83106c03-9bf5-4d32-859f-4db3f29731ca",
   "metadata": {},
   "outputs": [],
   "source": []
  }
 ],
 "metadata": {
  "kernelspec": {
   "display_name": "Python 3 (ipykernel)",
   "language": "python",
   "name": "python3"
  },
  "language_info": {
   "codemirror_mode": {
    "name": "ipython",
    "version": 3
   },
   "file_extension": ".py",
   "mimetype": "text/x-python",
   "name": "python",
   "nbconvert_exporter": "python",
   "pygments_lexer": "ipython3",
   "version": "3.13.2"
  }
 },
 "nbformat": 4,
 "nbformat_minor": 5
}
